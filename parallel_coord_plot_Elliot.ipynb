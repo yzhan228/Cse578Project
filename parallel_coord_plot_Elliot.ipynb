{
 "cells": [
  {
   "cell_type": "code",
   "execution_count": 1,
   "metadata": {
    "colab": {
     "base_uri": "https://localhost:8080/"
    },
    "id": "EqNk4qvQ9twK",
    "outputId": "eb328bbb-14d0-4c21-95e9-95898cd57af9"
   },
   "outputs": [
    {
     "name": "stdout",
     "output_type": "stream",
     "text": [
      "Requirement already satisfied: sweetviz in c:\\users\\owner\\miniconda3\\lib\\site-packages (2.1.3)\n",
      "Requirement already satisfied: scipy>=1.3.2 in c:\\users\\owner\\miniconda3\\lib\\site-packages (from sweetviz) (1.8.0)\n",
      "Requirement already satisfied: numpy>=1.16.0 in c:\\users\\owner\\miniconda3\\lib\\site-packages (from sweetviz) (1.22.2)\n",
      "Requirement already satisfied: tqdm>=4.43.0 in c:\\users\\owner\\miniconda3\\lib\\site-packages (from sweetviz) (4.61.2)\n",
      "Requirement already satisfied: pandas!=1.0.0,!=1.0.1,!=1.0.2,>=0.25.3 in c:\\users\\owner\\miniconda3\\lib\\site-packages (from sweetviz) (1.4.0)\n",
      "Requirement already satisfied: matplotlib>=3.1.3 in c:\\users\\owner\\miniconda3\\lib\\site-packages (from sweetviz) (3.5.1)\n",
      "Requirement already satisfied: importlib-resources>=1.2.0 in c:\\users\\owner\\miniconda3\\lib\\site-packages (from sweetviz) (5.4.0)\n",
      "Requirement already satisfied: jinja2>=2.11.1 in c:\\users\\owner\\miniconda3\\lib\\site-packages (from sweetviz) (3.0.3)\n",
      "Requirement already satisfied: zipp>=3.1.0 in c:\\users\\owner\\miniconda3\\lib\\site-packages (from importlib-resources>=1.2.0->sweetviz) (3.7.0)\n",
      "Requirement already satisfied: MarkupSafe>=2.0 in c:\\users\\owner\\miniconda3\\lib\\site-packages (from jinja2>=2.11.1->sweetviz) (2.0.1)\n",
      "Requirement already satisfied: pillow>=6.2.0 in c:\\users\\owner\\miniconda3\\lib\\site-packages (from matplotlib>=3.1.3->sweetviz) (9.0.1)\n",
      "Requirement already satisfied: kiwisolver>=1.0.1 in c:\\users\\owner\\miniconda3\\lib\\site-packages (from matplotlib>=3.1.3->sweetviz) (1.3.2)\n",
      "Requirement already satisfied: packaging>=20.0 in c:\\users\\owner\\miniconda3\\lib\\site-packages (from matplotlib>=3.1.3->sweetviz) (21.3)\n",
      "Requirement already satisfied: pyparsing>=2.2.1 in c:\\users\\owner\\miniconda3\\lib\\site-packages (from matplotlib>=3.1.3->sweetviz) (3.0.7)\n",
      "Requirement already satisfied: python-dateutil>=2.7 in c:\\users\\owner\\miniconda3\\lib\\site-packages (from matplotlib>=3.1.3->sweetviz) (2.8.2)\n",
      "Requirement already satisfied: fonttools>=4.22.0 in c:\\users\\owner\\miniconda3\\lib\\site-packages (from matplotlib>=3.1.3->sweetviz) (4.29.1)\n",
      "Requirement already satisfied: cycler>=0.10 in c:\\users\\owner\\miniconda3\\lib\\site-packages (from matplotlib>=3.1.3->sweetviz) (0.11.0)\n",
      "Requirement already satisfied: pytz>=2020.1 in c:\\users\\owner\\miniconda3\\lib\\site-packages (from pandas!=1.0.0,!=1.0.1,!=1.0.2,>=0.25.3->sweetviz) (2021.3)\n",
      "Requirement already satisfied: six>=1.5 in c:\\users\\owner\\miniconda3\\lib\\site-packages (from python-dateutil>=2.7->matplotlib>=3.1.3->sweetviz) (1.16.0)\n",
      "Requirement already satisfied: colorama in c:\\users\\owner\\miniconda3\\lib\\site-packages (from tqdm>=4.43.0->sweetviz) (0.4.4)\n"
     ]
    }
   ],
   "source": [
    "!pip install sweetviz"
   ]
  },
  {
   "cell_type": "code",
   "execution_count": 2,
   "metadata": {
    "id": "r1sealCb904h"
   },
   "outputs": [],
   "source": [
    "import pandas as pd\n",
    "import numpy as np"
   ]
  },
  {
   "cell_type": "code",
   "execution_count": 3,
   "metadata": {
    "id": "c91pFZ0Ef6lM"
   },
   "outputs": [],
   "source": [
    "data = pd.read_csv ('https://archive.ics.uci.edu/ml/machine-learning-databases/adult/adult.data')\n"
   ]
  },
  {
   "cell_type": "code",
   "execution_count": 4,
   "metadata": {
    "id": "JDmof4VIg-NO"
   },
   "outputs": [],
   "source": [
    "data['is_above_50K'] = data[' <=50K'] == ' >50K'\n",
    "cols = ['age', \n",
    "'workclass', \n",
    "'fnlwgt', \n",
    "'education', \n",
    "'education-num', \n",
    "'marital-status', \n",
    "'occupation', \n",
    "'relationship', \n",
    "'race', \n",
    "'sex', \n",
    "'capital-gain', \n",
    "'capital-loss', \n",
    "'hours-per-week', \n",
    "'native-country', '<=50k', 'is_above_50k'] \n",
    "\n",
    "data.columns = cols"
   ]
  },
  {
   "cell_type": "code",
   "execution_count": 5,
   "metadata": {
    "colab": {
     "base_uri": "https://localhost:8080/"
    },
    "id": "-ULmPFJuA5_A",
    "outputId": "7735a6f4-14e3-4eab-cbe7-21c7a7e72399"
   },
   "outputs": [
    {
     "name": "stdout",
     "output_type": "stream",
     "text": [
      "Requirement already satisfied: plotly in c:\\users\\owner\\miniconda3\\lib\\site-packages (5.6.0)\n",
      "Requirement already satisfied: six in c:\\users\\owner\\miniconda3\\lib\\site-packages (from plotly) (1.16.0)\n",
      "Requirement already satisfied: tenacity>=6.2.0 in c:\\users\\owner\\miniconda3\\lib\\site-packages (from plotly) (8.0.1)\n"
     ]
    }
   ],
   "source": [
    "!pip install plotly\n"
   ]
  },
  {
   "cell_type": "code",
   "execution_count": 6,
   "metadata": {
    "id": "MQhKxKzC3etG"
   },
   "outputs": [],
   "source": [
    "import plotly.express as px"
   ]
  },
  {
   "cell_type": "code",
   "execution_count": 7,
   "metadata": {
    "id": "XKSguNhAmWgM"
   },
   "outputs": [],
   "source": [
    "data['is_above_50k_int'] = np.where (data['is_above_50k'], 1, 0)"
   ]
  },
  {
   "cell_type": "markdown",
   "metadata": {
    "id": "qmv-o5YFhWmE"
   },
   "source": [
    "**Undersample the data**  \n",
    "* Need to undersample the majority class to create realisistic links between independent variables.\n",
    "* If not undersampled, this can lead to majority class over-representing a group that is contributing to the income \n",
    "NOTE: explore different ways, such representing data as a ratio"
   ]
  },
  {
   "cell_type": "code",
   "execution_count": 8,
   "metadata": {
    "colab": {
     "base_uri": "https://localhost:8080/"
    },
    "id": "D8Ta9bJGCtUU",
    "outputId": "809b4f57-923e-420c-9713-c64cdfffe4f0"
   },
   "outputs": [
    {
     "data": {
      "text/plain": [
       "(24719, 4)"
      ]
     },
     "execution_count": 8,
     "metadata": {},
     "output_type": "execute_result"
    }
   ],
   "source": [
    "sample_df = data[['education', \t'age', 'sex', 'is_above_50k_int']]\n",
    "sample_df[sample_df['is_above_50k_int'] == 0].shape"
   ]
  },
  {
   "cell_type": "code",
   "execution_count": 9,
   "metadata": {},
   "outputs": [
    {
     "data": {
      "text/html": [
       "<div>\n",
       "<style scoped>\n",
       "    .dataframe tbody tr th:only-of-type {\n",
       "        vertical-align: middle;\n",
       "    }\n",
       "\n",
       "    .dataframe tbody tr th {\n",
       "        vertical-align: top;\n",
       "    }\n",
       "\n",
       "    .dataframe thead th {\n",
       "        text-align: right;\n",
       "    }\n",
       "</style>\n",
       "<table border=\"1\" class=\"dataframe\">\n",
       "  <thead>\n",
       "    <tr style=\"text-align: right;\">\n",
       "      <th></th>\n",
       "      <th>education</th>\n",
       "      <th>age</th>\n",
       "      <th>sex</th>\n",
       "      <th>is_above_50k_int</th>\n",
       "    </tr>\n",
       "  </thead>\n",
       "  <tbody>\n",
       "    <tr>\n",
       "      <th>0</th>\n",
       "      <td>Bachelors</td>\n",
       "      <td>50</td>\n",
       "      <td>Male</td>\n",
       "      <td>0</td>\n",
       "    </tr>\n",
       "    <tr>\n",
       "      <th>1</th>\n",
       "      <td>HS-grad</td>\n",
       "      <td>38</td>\n",
       "      <td>Male</td>\n",
       "      <td>0</td>\n",
       "    </tr>\n",
       "    <tr>\n",
       "      <th>2</th>\n",
       "      <td>11th</td>\n",
       "      <td>53</td>\n",
       "      <td>Male</td>\n",
       "      <td>0</td>\n",
       "    </tr>\n",
       "    <tr>\n",
       "      <th>3</th>\n",
       "      <td>Bachelors</td>\n",
       "      <td>28</td>\n",
       "      <td>Female</td>\n",
       "      <td>0</td>\n",
       "    </tr>\n",
       "    <tr>\n",
       "      <th>4</th>\n",
       "      <td>Masters</td>\n",
       "      <td>37</td>\n",
       "      <td>Female</td>\n",
       "      <td>0</td>\n",
       "    </tr>\n",
       "    <tr>\n",
       "      <th>...</th>\n",
       "      <td>...</td>\n",
       "      <td>...</td>\n",
       "      <td>...</td>\n",
       "      <td>...</td>\n",
       "    </tr>\n",
       "    <tr>\n",
       "      <th>32555</th>\n",
       "      <td>Assoc-acdm</td>\n",
       "      <td>27</td>\n",
       "      <td>Female</td>\n",
       "      <td>0</td>\n",
       "    </tr>\n",
       "    <tr>\n",
       "      <th>32556</th>\n",
       "      <td>HS-grad</td>\n",
       "      <td>40</td>\n",
       "      <td>Male</td>\n",
       "      <td>1</td>\n",
       "    </tr>\n",
       "    <tr>\n",
       "      <th>32557</th>\n",
       "      <td>HS-grad</td>\n",
       "      <td>58</td>\n",
       "      <td>Female</td>\n",
       "      <td>0</td>\n",
       "    </tr>\n",
       "    <tr>\n",
       "      <th>32558</th>\n",
       "      <td>HS-grad</td>\n",
       "      <td>22</td>\n",
       "      <td>Male</td>\n",
       "      <td>0</td>\n",
       "    </tr>\n",
       "    <tr>\n",
       "      <th>32559</th>\n",
       "      <td>HS-grad</td>\n",
       "      <td>52</td>\n",
       "      <td>Female</td>\n",
       "      <td>1</td>\n",
       "    </tr>\n",
       "  </tbody>\n",
       "</table>\n",
       "<p>32560 rows × 4 columns</p>\n",
       "</div>"
      ],
      "text/plain": [
       "         education  age      sex  is_above_50k_int\n",
       "0        Bachelors   50     Male                 0\n",
       "1          HS-grad   38     Male                 0\n",
       "2             11th   53     Male                 0\n",
       "3        Bachelors   28   Female                 0\n",
       "4          Masters   37   Female                 0\n",
       "...            ...  ...      ...               ...\n",
       "32555   Assoc-acdm   27   Female                 0\n",
       "32556      HS-grad   40     Male                 1\n",
       "32557      HS-grad   58   Female                 0\n",
       "32558      HS-grad   22     Male                 0\n",
       "32559      HS-grad   52   Female                 1\n",
       "\n",
       "[32560 rows x 4 columns]"
      ]
     },
     "execution_count": 9,
     "metadata": {},
     "output_type": "execute_result"
    }
   ],
   "source": [
    "sample_df"
   ]
  },
  {
   "cell_type": "code",
   "execution_count": 10,
   "metadata": {
    "id": "5Vktv8VODETw"
   },
   "outputs": [],
   "source": [
    "num_sample = sample_df[sample_df['is_above_50k_int'] == 1].shape[0]"
   ]
  },
  {
   "cell_type": "code",
   "execution_count": 75,
   "metadata": {
    "id": "RzKD_0fpC_MT"
   },
   "outputs": [],
   "source": [
    "below_50k_df = sample_df[sample_df['is_above_50k_int'] == 0].sample (n=num_sample)\n",
    "above_50k_df = sample_df[sample_df['is_above_50k_int'] == 1]\n",
    "data_df = pd.concat ((above_50k_df, below_50k_df))\n"
   ]
  },
  {
   "cell_type": "markdown",
   "metadata": {
    "id": "b6r9oO0vjREI"
   },
   "source": [
    "* According to the plot, higher education contributes strongly to the likelyhood of income over 50K\n",
    "* Split Ed into 2 groups Bachelors and above and below Bacherlors"
   ]
  },
  {
   "cell_type": "code",
   "execution_count": 76,
   "metadata": {},
   "outputs": [
    {
     "data": {
      "text/html": [
       "<div>\n",
       "<style scoped>\n",
       "    .dataframe tbody tr th:only-of-type {\n",
       "        vertical-align: middle;\n",
       "    }\n",
       "\n",
       "    .dataframe tbody tr th {\n",
       "        vertical-align: top;\n",
       "    }\n",
       "\n",
       "    .dataframe thead th {\n",
       "        text-align: right;\n",
       "    }\n",
       "</style>\n",
       "<table border=\"1\" class=\"dataframe\">\n",
       "  <thead>\n",
       "    <tr style=\"text-align: right;\">\n",
       "      <th></th>\n",
       "      <th>education</th>\n",
       "      <th>age</th>\n",
       "      <th>sex</th>\n",
       "      <th>is_above_50k_int</th>\n",
       "    </tr>\n",
       "  </thead>\n",
       "  <tbody>\n",
       "    <tr>\n",
       "      <th>6</th>\n",
       "      <td>HS-grad</td>\n",
       "      <td>52</td>\n",
       "      <td>Male</td>\n",
       "      <td>1</td>\n",
       "    </tr>\n",
       "    <tr>\n",
       "      <th>7</th>\n",
       "      <td>Masters</td>\n",
       "      <td>31</td>\n",
       "      <td>Female</td>\n",
       "      <td>1</td>\n",
       "    </tr>\n",
       "    <tr>\n",
       "      <th>8</th>\n",
       "      <td>Bachelors</td>\n",
       "      <td>42</td>\n",
       "      <td>Male</td>\n",
       "      <td>1</td>\n",
       "    </tr>\n",
       "    <tr>\n",
       "      <th>9</th>\n",
       "      <td>Some-college</td>\n",
       "      <td>37</td>\n",
       "      <td>Male</td>\n",
       "      <td>1</td>\n",
       "    </tr>\n",
       "    <tr>\n",
       "      <th>10</th>\n",
       "      <td>Bachelors</td>\n",
       "      <td>30</td>\n",
       "      <td>Male</td>\n",
       "      <td>1</td>\n",
       "    </tr>\n",
       "    <tr>\n",
       "      <th>...</th>\n",
       "      <td>...</td>\n",
       "      <td>...</td>\n",
       "      <td>...</td>\n",
       "      <td>...</td>\n",
       "    </tr>\n",
       "    <tr>\n",
       "      <th>11103</th>\n",
       "      <td>Bachelors</td>\n",
       "      <td>27</td>\n",
       "      <td>Female</td>\n",
       "      <td>0</td>\n",
       "    </tr>\n",
       "    <tr>\n",
       "      <th>14830</th>\n",
       "      <td>Masters</td>\n",
       "      <td>48</td>\n",
       "      <td>Male</td>\n",
       "      <td>0</td>\n",
       "    </tr>\n",
       "    <tr>\n",
       "      <th>24954</th>\n",
       "      <td>Bachelors</td>\n",
       "      <td>28</td>\n",
       "      <td>Male</td>\n",
       "      <td>0</td>\n",
       "    </tr>\n",
       "    <tr>\n",
       "      <th>11086</th>\n",
       "      <td>9th</td>\n",
       "      <td>69</td>\n",
       "      <td>Male</td>\n",
       "      <td>0</td>\n",
       "    </tr>\n",
       "    <tr>\n",
       "      <th>25101</th>\n",
       "      <td>12th</td>\n",
       "      <td>51</td>\n",
       "      <td>Male</td>\n",
       "      <td>0</td>\n",
       "    </tr>\n",
       "  </tbody>\n",
       "</table>\n",
       "<p>15682 rows × 4 columns</p>\n",
       "</div>"
      ],
      "text/plain": [
       "           education  age      sex  is_above_50k_int\n",
       "6            HS-grad   52     Male                 1\n",
       "7            Masters   31   Female                 1\n",
       "8          Bachelors   42     Male                 1\n",
       "9       Some-college   37     Male                 1\n",
       "10         Bachelors   30     Male                 1\n",
       "...              ...  ...      ...               ...\n",
       "11103      Bachelors   27   Female                 0\n",
       "14830        Masters   48     Male                 0\n",
       "24954      Bachelors   28     Male                 0\n",
       "11086            9th   69     Male                 0\n",
       "25101           12th   51     Male                 0\n",
       "\n",
       "[15682 rows x 4 columns]"
      ]
     },
     "execution_count": 76,
     "metadata": {},
     "output_type": "execute_result"
    }
   ],
   "source": [
    "data_df"
   ]
  },
  {
   "cell_type": "code",
   "execution_count": 77,
   "metadata": {
    "id": "wHdLcrBBnyGl"
   },
   "outputs": [],
   "source": [
    "#para`llel_set_df = data_df[['education', \t'age', 'sex', 'is_above_50k_int']].groupby(['education', \t'age', 'sex']).count().reset_index()\n",
    "data_df['Higher_Education'] = data_df['education'].apply (lambda x: x in set ([' Bachelors', ' Doctorate', ' Masters', ' Prof-school']))"
   ]
  },
  {
   "cell_type": "markdown",
   "metadata": {
    "id": "V_nYCfAVlwRL"
   },
   "source": [
    "It looks like there is strong correlation between people between ages 35 and 65 and probability to be above 50K"
   ]
  },
  {
   "cell_type": "markdown",
   "metadata": {
    "id": "LchupADSlvbG"
   },
   "source": []
  },
  {
   "cell_type": "code",
   "execution_count": 78,
   "metadata": {},
   "outputs": [
    {
     "data": {
      "text/html": [
       "<div>\n",
       "<style scoped>\n",
       "    .dataframe tbody tr th:only-of-type {\n",
       "        vertical-align: middle;\n",
       "    }\n",
       "\n",
       "    .dataframe tbody tr th {\n",
       "        vertical-align: top;\n",
       "    }\n",
       "\n",
       "    .dataframe thead th {\n",
       "        text-align: right;\n",
       "    }\n",
       "</style>\n",
       "<table border=\"1\" class=\"dataframe\">\n",
       "  <thead>\n",
       "    <tr style=\"text-align: right;\">\n",
       "      <th></th>\n",
       "      <th>education</th>\n",
       "      <th>age</th>\n",
       "      <th>sex</th>\n",
       "      <th>is_above_50k_int</th>\n",
       "      <th>Higher_Education</th>\n",
       "    </tr>\n",
       "  </thead>\n",
       "  <tbody>\n",
       "    <tr>\n",
       "      <th>6</th>\n",
       "      <td>HS-grad</td>\n",
       "      <td>52</td>\n",
       "      <td>Male</td>\n",
       "      <td>1</td>\n",
       "      <td>False</td>\n",
       "    </tr>\n",
       "    <tr>\n",
       "      <th>7</th>\n",
       "      <td>Masters</td>\n",
       "      <td>31</td>\n",
       "      <td>Female</td>\n",
       "      <td>1</td>\n",
       "      <td>True</td>\n",
       "    </tr>\n",
       "    <tr>\n",
       "      <th>8</th>\n",
       "      <td>Bachelors</td>\n",
       "      <td>42</td>\n",
       "      <td>Male</td>\n",
       "      <td>1</td>\n",
       "      <td>True</td>\n",
       "    </tr>\n",
       "    <tr>\n",
       "      <th>9</th>\n",
       "      <td>Some-college</td>\n",
       "      <td>37</td>\n",
       "      <td>Male</td>\n",
       "      <td>1</td>\n",
       "      <td>False</td>\n",
       "    </tr>\n",
       "    <tr>\n",
       "      <th>10</th>\n",
       "      <td>Bachelors</td>\n",
       "      <td>30</td>\n",
       "      <td>Male</td>\n",
       "      <td>1</td>\n",
       "      <td>True</td>\n",
       "    </tr>\n",
       "    <tr>\n",
       "      <th>...</th>\n",
       "      <td>...</td>\n",
       "      <td>...</td>\n",
       "      <td>...</td>\n",
       "      <td>...</td>\n",
       "      <td>...</td>\n",
       "    </tr>\n",
       "    <tr>\n",
       "      <th>11103</th>\n",
       "      <td>Bachelors</td>\n",
       "      <td>27</td>\n",
       "      <td>Female</td>\n",
       "      <td>0</td>\n",
       "      <td>True</td>\n",
       "    </tr>\n",
       "    <tr>\n",
       "      <th>14830</th>\n",
       "      <td>Masters</td>\n",
       "      <td>48</td>\n",
       "      <td>Male</td>\n",
       "      <td>0</td>\n",
       "      <td>True</td>\n",
       "    </tr>\n",
       "    <tr>\n",
       "      <th>24954</th>\n",
       "      <td>Bachelors</td>\n",
       "      <td>28</td>\n",
       "      <td>Male</td>\n",
       "      <td>0</td>\n",
       "      <td>True</td>\n",
       "    </tr>\n",
       "    <tr>\n",
       "      <th>11086</th>\n",
       "      <td>9th</td>\n",
       "      <td>69</td>\n",
       "      <td>Male</td>\n",
       "      <td>0</td>\n",
       "      <td>False</td>\n",
       "    </tr>\n",
       "    <tr>\n",
       "      <th>25101</th>\n",
       "      <td>12th</td>\n",
       "      <td>51</td>\n",
       "      <td>Male</td>\n",
       "      <td>0</td>\n",
       "      <td>False</td>\n",
       "    </tr>\n",
       "  </tbody>\n",
       "</table>\n",
       "<p>15682 rows × 5 columns</p>\n",
       "</div>"
      ],
      "text/plain": [
       "           education  age      sex  is_above_50k_int  Higher_Education\n",
       "6            HS-grad   52     Male                 1             False\n",
       "7            Masters   31   Female                 1              True\n",
       "8          Bachelors   42     Male                 1              True\n",
       "9       Some-college   37     Male                 1             False\n",
       "10         Bachelors   30     Male                 1              True\n",
       "...              ...  ...      ...               ...               ...\n",
       "11103      Bachelors   27   Female                 0              True\n",
       "14830        Masters   48     Male                 0              True\n",
       "24954      Bachelors   28     Male                 0              True\n",
       "11086            9th   69     Male                 0             False\n",
       "25101           12th   51     Male                 0             False\n",
       "\n",
       "[15682 rows x 5 columns]"
      ]
     },
     "execution_count": 78,
     "metadata": {},
     "output_type": "execute_result"
    }
   ],
   "source": [
    "data_df"
   ]
  },
  {
   "cell_type": "code",
   "execution_count": 79,
   "metadata": {
    "id": "ejXHumDmpknM"
   },
   "outputs": [],
   "source": [
    "data_df['age_btw_35_and_65'] = data_df['age'].apply (lambda x: (x >= 35) & (x<= 65) )"
   ]
  },
  {
   "cell_type": "code",
   "execution_count": 80,
   "metadata": {
    "id": "ejXHumDmpknM"
   },
   "outputs": [],
   "source": [
    "parallel_set_df = data_df[['Higher_Education', 'age_btw_35_and_65', 'sex','is_above_50k_int']]"
   ]
  },
  {
   "cell_type": "code",
   "execution_count": 81,
   "metadata": {},
   "outputs": [
    {
     "data": {
      "text/html": [
       "<div>\n",
       "<style scoped>\n",
       "    .dataframe tbody tr th:only-of-type {\n",
       "        vertical-align: middle;\n",
       "    }\n",
       "\n",
       "    .dataframe tbody tr th {\n",
       "        vertical-align: top;\n",
       "    }\n",
       "\n",
       "    .dataframe thead th {\n",
       "        text-align: right;\n",
       "    }\n",
       "</style>\n",
       "<table border=\"1\" class=\"dataframe\">\n",
       "  <thead>\n",
       "    <tr style=\"text-align: right;\">\n",
       "      <th></th>\n",
       "      <th>Higher_Education</th>\n",
       "      <th>age_btw_35_and_65</th>\n",
       "      <th>sex</th>\n",
       "      <th>is_above_50k_int</th>\n",
       "    </tr>\n",
       "  </thead>\n",
       "  <tbody>\n",
       "    <tr>\n",
       "      <th>6</th>\n",
       "      <td>False</td>\n",
       "      <td>True</td>\n",
       "      <td>Male</td>\n",
       "      <td>1</td>\n",
       "    </tr>\n",
       "    <tr>\n",
       "      <th>7</th>\n",
       "      <td>True</td>\n",
       "      <td>False</td>\n",
       "      <td>Female</td>\n",
       "      <td>1</td>\n",
       "    </tr>\n",
       "    <tr>\n",
       "      <th>8</th>\n",
       "      <td>True</td>\n",
       "      <td>True</td>\n",
       "      <td>Male</td>\n",
       "      <td>1</td>\n",
       "    </tr>\n",
       "    <tr>\n",
       "      <th>9</th>\n",
       "      <td>False</td>\n",
       "      <td>True</td>\n",
       "      <td>Male</td>\n",
       "      <td>1</td>\n",
       "    </tr>\n",
       "    <tr>\n",
       "      <th>10</th>\n",
       "      <td>True</td>\n",
       "      <td>False</td>\n",
       "      <td>Male</td>\n",
       "      <td>1</td>\n",
       "    </tr>\n",
       "    <tr>\n",
       "      <th>...</th>\n",
       "      <td>...</td>\n",
       "      <td>...</td>\n",
       "      <td>...</td>\n",
       "      <td>...</td>\n",
       "    </tr>\n",
       "    <tr>\n",
       "      <th>11103</th>\n",
       "      <td>True</td>\n",
       "      <td>False</td>\n",
       "      <td>Female</td>\n",
       "      <td>0</td>\n",
       "    </tr>\n",
       "    <tr>\n",
       "      <th>14830</th>\n",
       "      <td>True</td>\n",
       "      <td>True</td>\n",
       "      <td>Male</td>\n",
       "      <td>0</td>\n",
       "    </tr>\n",
       "    <tr>\n",
       "      <th>24954</th>\n",
       "      <td>True</td>\n",
       "      <td>False</td>\n",
       "      <td>Male</td>\n",
       "      <td>0</td>\n",
       "    </tr>\n",
       "    <tr>\n",
       "      <th>11086</th>\n",
       "      <td>False</td>\n",
       "      <td>False</td>\n",
       "      <td>Male</td>\n",
       "      <td>0</td>\n",
       "    </tr>\n",
       "    <tr>\n",
       "      <th>25101</th>\n",
       "      <td>False</td>\n",
       "      <td>True</td>\n",
       "      <td>Male</td>\n",
       "      <td>0</td>\n",
       "    </tr>\n",
       "  </tbody>\n",
       "</table>\n",
       "<p>15682 rows × 4 columns</p>\n",
       "</div>"
      ],
      "text/plain": [
       "       Higher_Education  age_btw_35_and_65      sex  is_above_50k_int\n",
       "6                 False               True     Male                 1\n",
       "7                  True              False   Female                 1\n",
       "8                  True               True     Male                 1\n",
       "9                 False               True     Male                 1\n",
       "10                 True              False     Male                 1\n",
       "...                 ...                ...      ...               ...\n",
       "11103              True              False   Female                 0\n",
       "14830              True               True     Male                 0\n",
       "24954              True              False     Male                 0\n",
       "11086             False              False     Male                 0\n",
       "25101             False               True     Male                 0\n",
       "\n",
       "[15682 rows x 4 columns]"
      ]
     },
     "execution_count": 81,
     "metadata": {},
     "output_type": "execute_result"
    }
   ],
   "source": [
    "parallel_set_df"
   ]
  },
  {
   "cell_type": "code",
   "execution_count": 83,
   "metadata": {},
   "outputs": [],
   "source": [
    "import plotly.graph_objects as go\n",
    "import pandas as pd\n",
    "\n",
    "# Create dimensions\n",
    "Higher_Education_dim = go.parcats.Dimension(\n",
    "    values=parallel_set_df.Higher_Education,\n",
    "    categoryorder='category ascending', label=\"Higher_Education\"\n",
    ")\n",
    "\n",
    "age_dim = go.parcats.Dimension(values=parallel_set_df.age_btw_35_and_65, label=\"Age Group[35-65]\")\n",
    "sex_dim = go.parcats.Dimension(values=parallel_set_df.sex, label=\"Genter\")\n",
    "\n",
    "is_above_50K_dim = go.parcats.Dimension(\n",
    "    values=parallel_set_df.is_above_50k_int, label=\"Income > 50K\", categoryarray=[0, 1],\n",
    "    ticktext=['Below', 'Above']\n",
    ")\n",
    "\n",
    "\n",
    "color = parallel_set_df.is_above_50k_int;\n",
    "colorscale = [[0, 'lightsteelblue'], [1, 'mediumseagreen']];\n",
    "\n",
    "fig = go.Figure(data = [go.Parcats(dimensions=[Higher_Education_dim, age_dim, sex_dim, is_above_50K_dim],\n",
    "        line={'color': color, 'colorscale': colorscale},\n",
    "        hoveron='color', hoverinfo='count+probability',\n",
    "        labelfont={'size': 18, 'family': 'Times'},\n",
    "        tickfont={'size': 16, 'family': 'Times'},\n",
    "        arrangement='freeform')])"
   ]
  },
  {
   "cell_type": "markdown",
   "metadata": {
    "colab": {
     "base_uri": "https://localhost:8080/",
     "height": 542
    },
    "id": "YLGELPZpqooU",
    "outputId": "06207de7-58a3-42ee-f6b2-13656b179d23"
   },
   "source": [
    "![](images/parallel_coord_plot.png)"
   ]
  },
  {
   "cell_type": "code",
   "execution_count": null,
   "metadata": {},
   "outputs": [],
   "source": []
  }
 ],
 "metadata": {
  "colab": {
   "collapsed_sections": [],
   "name": "cse_578_project.ipynb",
   "provenance": [],
   "toc_visible": true
  },
  "kernelspec": {
   "display_name": "Python 3 (ipykernel)",
   "language": "python",
   "name": "python3"
  },
  "language_info": {
   "codemirror_mode": {
    "name": "ipython",
    "version": 3
   },
   "file_extension": ".py",
   "mimetype": "text/x-python",
   "name": "python",
   "nbconvert_exporter": "python",
   "pygments_lexer": "ipython3",
   "version": "3.9.5"
  }
 },
 "nbformat": 4,
 "nbformat_minor": 4
}
